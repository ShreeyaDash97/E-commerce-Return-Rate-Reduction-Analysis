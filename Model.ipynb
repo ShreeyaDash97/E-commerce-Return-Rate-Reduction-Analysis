{
 "cells": [
  {
   "cell_type": "code",
   "execution_count": 13,
   "id": "85d7abe3",
   "metadata": {},
   "outputs": [
    {
     "name": "stderr",
     "output_type": "stream",
     "text": [
      "C:\\Users\\shree\\AppData\\Local\\Temp\\ipykernel_7452\\3117664999.py:20: FutureWarning: A value is trying to be set on a copy of a DataFrame or Series through chained assignment using an inplace method.\n",
      "The behavior will change in pandas 3.0. This inplace method will never work because the intermediate object on which we are setting values always behaves as a copy.\n",
      "\n",
      "For example, when doing 'df[col].method(value, inplace=True)', try using 'df.method({col: value}, inplace=True)' or df[col] = df[col].method(value) instead, to perform the operation inplace on the original object.\n",
      "\n",
      "\n",
      "  df['Days_to_Return'].fillna(0, inplace=True)\n"
     ]
    },
    {
     "name": "stdout",
     "output_type": "stream",
     "text": [
      "✅ High-risk product list exported to 'high_risk_products.csv'\n"
     ]
    }
   ],
   "source": [
    "import pandas as pd\n",
    "from sklearn.model_selection import train_test_split\n",
    "from sklearn.ensemble import RandomForestClassifier\n",
    "from sklearn.preprocessing import StandardScaler\n",
    "\n",
    "# Step 1: Load data and save original copy\n",
    "df_original = pd.read_csv(\"ecommerce_returns_synthetic_data.csv\")\n",
    "df = df_original.copy()\n",
    "\n",
    "# Step 2: Encode target variable\n",
    "df['Return_Status'] = df['Return_Status'].map({'Returned': 1, 'Not Returned': 0})\n",
    "\n",
    "# Step 3: Drop non-numeric or ID-based features for training\n",
    "df.drop(columns=[\n",
    "    'Order_ID', 'Product_ID', 'User_ID', 'Order_Date',\n",
    "    'Return_Date', 'Return_Reason', 'User_Location'\n",
    "], inplace=True)\n",
    "\n",
    "# Step 4: Handle missing values and one-hot encode\n",
    "df['Days_to_Return'].fillna(0, inplace=True)\n",
    "df = pd.get_dummies(df, columns=['Product_Category', 'User_Gender', 'Payment_Method', 'Shipping_Method'], drop_first=True)\n",
    "\n",
    "# Step 5: Define features and target\n",
    "X = df.drop('Return_Status', axis=1)\n",
    "y = df['Return_Status']\n",
    "\n",
    "# Step 6: Scale features\n",
    "scaler = StandardScaler()\n",
    "X_scaled = scaler.fit_transform(X)\n",
    "\n",
    "# Step 7: Train-test split with index tracking\n",
    "X_train, X_test, y_train, y_test, train_idx, test_idx = train_test_split(\n",
    "    X_scaled, y, df.index, test_size=0.2, random_state=42\n",
    ")\n",
    "\n",
    "# Step 8: Train Random Forest\n",
    "rf_model = RandomForestClassifier(n_estimators=100, random_state=42)\n",
    "rf_model.fit(X_train, y_train)\n",
    "\n",
    "# Step 9: Predict probabilities for test set\n",
    "return_probs = rf_model.predict_proba(X_test)[:, 1]\n",
    "\n",
    "# Step 10: Fetch original rows for test set\n",
    "df_test = df_original.loc[test_idx].copy()\n",
    "df_test['return_probability'] = return_probs\n",
    "\n",
    "# Step 11: Filter high-risk items\n",
    "high_risk = df_test[df_test['return_probability'] > 0.7]\n",
    "\n",
    "# Step 12: Export selected columns\n",
    "high_risk[['Product_ID', 'Product_Category', 'User_Gender', 'Return_Status', 'return_probability']] \\\n",
    "    .to_csv('high_risk_products.csv', index=False)\n",
    "\n",
    "print(\"✅ High-risk product list exported to 'high_risk_products.csv'\")\n"
   ]
  },
  {
   "cell_type": "code",
   "execution_count": null,
   "id": "48352010",
   "metadata": {},
   "outputs": [],
   "source": []
  }
 ],
 "metadata": {
  "kernelspec": {
   "display_name": "Python 3",
   "language": "python",
   "name": "python3"
  },
  "language_info": {
   "codemirror_mode": {
    "name": "ipython",
    "version": 3
   },
   "file_extension": ".py",
   "mimetype": "text/x-python",
   "name": "python",
   "nbconvert_exporter": "python",
   "pygments_lexer": "ipython3",
   "version": "3.13.0"
  }
 },
 "nbformat": 4,
 "nbformat_minor": 5
}
