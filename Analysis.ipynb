{
 "cells": [
  {
   "cell_type": "code",
   "execution_count": 42,
   "id": "21c3ec33",
   "metadata": {},
   "outputs": [
    {
     "name": "stdout",
     "output_type": "stream",
     "text": [
      "c:\\Users\\shree\\Downloads\\Data Analyst\\Python\\venv\\python.exe\n"
     ]
    }
   ],
   "source": [
    "# importing python libraries\n",
    "import pandas as pd\n",
    "import numpy as np\n",
    "import warnings\n",
    "import matplotlib.pyplot as plt\n",
    "import sys\n",
    "print(sys.executable)"
   ]
  },
  {
   "cell_type": "code",
   "execution_count": 2,
   "id": "f36b2314",
   "metadata": {},
   "outputs": [],
   "source": [
    "#Load the Dataset\n",
    "df = pd.read_csv(\"ecommerce_returns_synthetic_data.csv\")\n"
   ]
  },
  {
   "cell_type": "code",
   "execution_count": 29,
   "id": "1e210b38",
   "metadata": {},
   "outputs": [],
   "source": [
    "df.columns\n",
    "df.describe()\n",
    "df.isnull().sum()\n",
    "df.count()\n",
    "df.dtypes\n",
    "df.drop_duplicates(inplace = True)\n",
    "\n",
    "\n",
    "\n"
   ]
  },
  {
   "cell_type": "code",
   "execution_count": 32,
   "id": "a93c78b5",
   "metadata": {},
   "outputs": [],
   "source": [
    "# Numerical columns \n",
    "df.fillna(df.select_dtypes(include=['float64', 'int64']).mean(), inplace=True)\n",
    "\n",
    "# Categorical \n",
    "df.fillna(df.select_dtypes(include='object').mode().iloc[0], inplace=True)"
   ]
  },
  {
   "cell_type": "code",
   "execution_count": null,
   "id": "dbaef781",
   "metadata": {},
   "outputs": [
    {
     "name": "stdout",
     "output_type": "stream",
     "text": [
      "Product_Category\n",
      "Books          0.506614\n",
      "Clothing       0.524500\n",
      "Electronics    0.509320\n",
      "Home           0.490148\n",
      "Toys           0.495370\n",
      "Name: Is_Returned, dtype: float64\n"
     ]
    }
   ],
   "source": [
    "print(df.groupby('Product_Category')['Is_Returned'].mean())\n",
    "print(df.groupby('User_Gender')['Is_Returned'].mean())\n",
    "print(df.groupby('User_Location')['Is_Returned'].mean())\n",
    "print(df.groupby('Payment_Method')['Is_Returned'].mean())"
   ]
  },
  {
   "cell_type": "code",
   "execution_count": 45,
   "id": "57fa8775",
   "metadata": {},
   "outputs": [],
   "source": [
    "df.groupby('Product_Category')['Is_Returned'].mean().to_csv('category_return_rates.csv')\n",
    "features = df[['Product_Price', 'Product_Category', 'User_Location', 'Payment_Method', 'User_Gender']]\n",
    "target = df['Is_Returned']"
   ]
  },
  {
   "cell_type": "code",
   "execution_count": 18,
   "id": "3746a433",
   "metadata": {},
   "outputs": [
    {
     "name": "stdout",
     "output_type": "stream",
     "text": [
      "Dateset Cleaned and saved\n"
     ]
    }
   ],
   "source": [
    "# Convert Date Columns\n",
    "df['Order_Date'] = pd.to_datetime(df['Order_Date'], errors = 'coerce')\n",
    "df['Return_Date'] = pd.to_datetime(df['Return_Date'], errors = 'coerce')\n",
    "# Validate Numeric Columns\n",
    "# Remove the rows with Negative or zero values in important columns\n",
    "df = df[(df['Product_Price']>= 0) & \n",
    "        (df['Order_Quantity']>0)&\n",
    "        (df['Discount_Applied']>=0)]\n",
    "# Standardize Categrical Fields\n",
    "df['Return_Status'] = df['Return_Status'].str.strip().str.title()\n",
    "df['User_Gender'] = df['User_Gender'].str.strip().str.title()\n",
    "\n",
    "# Add Return Flag\n",
    "df['Is_Returned'] = df['Return_Status'] == 'Returned'\n",
    "\n",
    "df.to_csv(\"Cleaned_orders_dataset.csv\",index = False)\n",
    "print(\"Dateset Cleaned and saved\")"
   ]
  },
  {
   "cell_type": "code",
   "execution_count": 20,
   "id": "f2794dca",
   "metadata": {},
   "outputs": [
    {
     "name": "stdout",
     "output_type": "stream",
     "text": [
      "Cleaned Data saved to SQLite database 'orders' table.\n"
     ]
    }
   ],
   "source": [
    "import sqlite3\n",
    "\n",
    "# connect to SQLite database\n",
    "conn = sqlite3.connect(\"ecommerce_orders.db\")\n",
    "\n",
    "# Write the cleaned order dataset into a SQL Table\n",
    "df.to_sql(\"orders\",conn, if_exists = \"replace\", index = False)\n",
    "print(\"Cleaned Data saved to SQLite database 'orders' table.\")"
   ]
  },
  {
   "cell_type": "code",
   "execution_count": 21,
   "id": "7c1c199e",
   "metadata": {},
   "outputs": [
    {
     "data": {
      "text/html": [
       "<div>\n",
       "<style scoped>\n",
       "    .dataframe tbody tr th:only-of-type {\n",
       "        vertical-align: middle;\n",
       "    }\n",
       "\n",
       "    .dataframe tbody tr th {\n",
       "        vertical-align: top;\n",
       "    }\n",
       "\n",
       "    .dataframe thead th {\n",
       "        text-align: right;\n",
       "    }\n",
       "</style>\n",
       "<table border=\"1\" class=\"dataframe\">\n",
       "  <thead>\n",
       "    <tr style=\"text-align: right;\">\n",
       "      <th></th>\n",
       "      <th>Order_ID</th>\n",
       "      <th>Product_Price</th>\n",
       "      <th>Order_Quantity</th>\n",
       "      <th>Product_Category</th>\n",
       "    </tr>\n",
       "  </thead>\n",
       "  <tbody>\n",
       "    <tr>\n",
       "      <th>0</th>\n",
       "      <td>ORD00008111</td>\n",
       "      <td>499.89</td>\n",
       "      <td>1</td>\n",
       "      <td>Toys</td>\n",
       "    </tr>\n",
       "    <tr>\n",
       "      <th>1</th>\n",
       "      <td>ORD00009021</td>\n",
       "      <td>499.75</td>\n",
       "      <td>4</td>\n",
       "      <td>Clothing</td>\n",
       "    </tr>\n",
       "    <tr>\n",
       "      <th>2</th>\n",
       "      <td>ORD00002886</td>\n",
       "      <td>499.71</td>\n",
       "      <td>2</td>\n",
       "      <td>Electronics</td>\n",
       "    </tr>\n",
       "    <tr>\n",
       "      <th>3</th>\n",
       "      <td>ORD00009965</td>\n",
       "      <td>499.69</td>\n",
       "      <td>4</td>\n",
       "      <td>Toys</td>\n",
       "    </tr>\n",
       "    <tr>\n",
       "      <th>4</th>\n",
       "      <td>ORD00007098</td>\n",
       "      <td>499.68</td>\n",
       "      <td>2</td>\n",
       "      <td>Books</td>\n",
       "    </tr>\n",
       "  </tbody>\n",
       "</table>\n",
       "</div>"
      ],
      "text/plain": [
       "      Order_ID  Product_Price  Order_Quantity Product_Category\n",
       "0  ORD00008111         499.89               1             Toys\n",
       "1  ORD00009021         499.75               4         Clothing\n",
       "2  ORD00002886         499.71               2      Electronics\n",
       "3  ORD00009965         499.69               4             Toys\n",
       "4  ORD00007098         499.68               2            Books"
      ]
     },
     "execution_count": 21,
     "metadata": {},
     "output_type": "execute_result"
    }
   ],
   "source": [
    "# Fetch top 5 most expensive orders\n",
    "query = \"\"\"\n",
    "SELECT Order_ID, Product_Price, Order_Quantity, Product_Category\n",
    "FROM Orders\n",
    "ORDER BY Product_Price DESC\n",
    "LIMIT 5\n",
    "\"\"\"\n",
    "expensive_orders = pd.read_sql_query(query,conn)\n",
    "expensive_orders"
   ]
  },
  {
   "cell_type": "code",
   "execution_count": null,
   "id": "129aa2fc",
   "metadata": {},
   "outputs": [],
   "source": []
  }
 ],
 "metadata": {
  "kernelspec": {
   "display_name": "Python 3",
   "language": "python",
   "name": "python3"
  },
  "language_info": {
   "codemirror_mode": {
    "name": "ipython",
    "version": 3
   },
   "file_extension": ".py",
   "mimetype": "text/x-python",
   "name": "python",
   "nbconvert_exporter": "python",
   "pygments_lexer": "ipython3",
   "version": "3.13.0"
  }
 },
 "nbformat": 4,
 "nbformat_minor": 5
}
